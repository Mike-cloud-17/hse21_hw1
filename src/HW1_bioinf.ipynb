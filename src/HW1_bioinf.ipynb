{
  "nbformat": 4,
  "nbformat_minor": 0,
  "metadata": {
    "colab": {
      "name": "HW1_bioinf.ipynb",
      "provenance": []
    },
    "kernelspec": {
      "name": "python3",
      "display_name": "Python 3"
    },
    "language_info": {
      "name": "python"
    }
  },
  "cells": [
    {
      "cell_type": "code",
      "execution_count": null,
      "metadata": {
        "colab": {
          "base_uri": "https://localhost:8080/"
        },
        "id": "5jax3j6isQw1",
        "outputId": "6197a23f-7558-4deb-a4b4-73812352a888"
      },
      "outputs": [
        {
          "output_type": "stream",
          "name": "stdout",
          "text": [
            "Cloning into 'hse21_hw1'...\n",
            "remote: Enumerating objects: 19, done.\u001b[K\n",
            "remote: Counting objects: 100% (19/19), done.\u001b[K\n",
            "remote: Compressing objects: 100% (17/17), done.\u001b[K\n",
            "remote: Total 19 (delta 5), reused 0 (delta 0), pack-reused 0\u001b[K\n",
            "Unpacking objects: 100% (19/19), done.\n"
          ]
        }
      ],
      "source": [
        "!git clone https://github.com/Mike-cloud-17/hse21_hw1.git"
      ]
    },
    {
      "cell_type": "code",
      "source": [
        "def info(file):\n",
        "  lenghts = !grep '^>' $file | sed -E 's/^.*len([0-9]+).*$/\\1/'\n",
        "  nums = sorted((int(e) for e in lenghts), reverse=True)\n",
        "  total = sum(nums)\n",
        "\n",
        "  score = 0\n",
        "  for e in nums:\n",
        "    score += e\n",
        "    if score >= total/2:\n",
        "      N50 = e\n",
        "      break\n",
        "\n",
        "  print(f\"Общее число = {len(nums)}\")\n",
        "  print(f\"общая длина = {total}\")\n",
        "  print(f\"самый длинный из набора = {nums[0]}\")\n",
        "  print(f\"N50 = {N50}\")\n",
        "\n",
        "info(\"hse21_hw1/data/contigs.fasta\")"
      ],
      "metadata": {
        "colab": {
          "base_uri": "https://localhost:8080/"
        },
        "id": "jMg5lnWqsq9W",
        "outputId": "c1e9734e-bfa2-4b5e-8191-cd970c1d8517"
      },
      "execution_count": 7,
      "outputs": [
        {
          "output_type": "stream",
          "name": "stdout",
          "text": [
            "Общее число = 610\n",
            "общая длина = 3925436\n",
            "самый длинный из набора = 179307\n",
            "N50 = 55039\n"
          ]
        }
      ]
    },
    {
      "cell_type": "code",
      "source": [
        "# тоже самое но для скаффолдов\n",
        "info(\"hse21_hw1/data/scaffold_with_gaps.fasta\")"
      ],
      "metadata": {
        "colab": {
          "base_uri": "https://localhost:8080/"
        },
        "id": "duGCnjtSswJH",
        "outputId": "22829039-45fe-45c5-c2cf-e92b68ac36a6"
      },
      "execution_count": 8,
      "outputs": [
        {
          "output_type": "stream",
          "name": "stdout",
          "text": [
            "Общее число = 73\n",
            "общая длина = 3876314\n",
            "самый длинный из набора = 3832485\n",
            "N50 = 3832485\n"
          ]
        }
      ]
    },
    {
      "cell_type": "code",
      "source": [
        "def gaps(file):\n",
        "  num = !grep -Ec 'N+' $file\n",
        "  total = !grep -Eo 'N+' $file | tr -cd 'N' | wc -c\n",
        "  print(f\"Общее число = {num[0]}\")\n",
        "  print(f\"общая длина = {total[0]}\")\n",
        "\n",
        "gaps(\"hse21_hw1/data/longest_with_gaps.fasta\")"
      ],
      "metadata": {
        "colab": {
          "base_uri": "https://localhost:8080/"
        },
        "id": "hxgpNGaws1b-",
        "outputId": "27a93649-9c32-4704-9c73-ce8e7b9512ad"
      },
      "execution_count": 11,
      "outputs": [
        {
          "output_type": "stream",
          "name": "stdout",
          "text": [
            "Общее число = 136\n",
            "общая длина = 6582\n"
          ]
        }
      ]
    },
    {
      "cell_type": "code",
      "source": [
        "# тоже самое но после platanus gap_close\n",
        "gaps(\"hse21_hw1/data/longest.fasta\")"
      ],
      "metadata": {
        "colab": {
          "base_uri": "https://localhost:8080/"
        },
        "id": "QXWpIZBJs35i",
        "outputId": "e5751ba5-5d34-4ee9-ce12-d8d0215725e8"
      },
      "execution_count": 12,
      "outputs": [
        {
          "output_type": "stream",
          "name": "stdout",
          "text": [
            "Общее число = 30\n",
            "общая длина = 1679\n"
          ]
        }
      ]
    }
  ]
}